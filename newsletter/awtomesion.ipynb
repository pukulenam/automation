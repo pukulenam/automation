{
 "cells": [
  {
   "cell_type": "code",
   "execution_count": 6,
   "metadata": {
    "id": "7uuCruF17Bwh"
   },
   "outputs": [],
   "source": [
    "# importing datetime module for now() \n",
    "# import datetime \n",
    "# from calendar import Calendar"
   ]
  },
  {
   "cell_type": "code",
   "execution_count": 7,
   "metadata": {
    "colab": {
     "base_uri": "https://localhost:8080/"
    },
    "id": "fzf_Ira57nKv",
    "outputId": "e07f6149-05e9-43d4-e9a3-2150aa074f9c"
   },
   "outputs": [],
   "source": [
    "# obj = calendar.Calendar()\n",
    " \n",
    "# # iterating with itermonthdates\n",
    "# for day in obj.itermonthdates(2022, 1):\n",
    "#     print(day)"
   ]
  },
  {
   "cell_type": "code",
   "execution_count": 8,
   "metadata": {
    "id": "HprzUzb3AVnU"
   },
   "outputs": [],
   "source": [
    "template = open(\"Main Article Template\",\"r\")"
   ]
  },
  {
   "cell_type": "markdown",
   "metadata": {},
   "source": [
    "Reference: https://medium.com/@pushkarkadam1994/automation-create-folder-structures-using-python-fc7b3a53b95e"
   ]
  },
  {
   "cell_type": "code",
   "execution_count": 10,
   "metadata": {},
   "outputs": [
    {
     "name": "stdout",
     "output_type": "stream",
     "text": [
      "Directory  Pukul Enam News Template/m/y  Created \n",
      "Directory  Pukul Enam News Template/m/y  already exists\n",
      "Directory  Pukul Enam News Template/o/e  Created \n",
      "Directory  Pukul Enam News Template/o/e  already exists\n",
      "Directory  Pukul Enam News Template/n/a  Created \n",
      "Directory  Pukul Enam News Template/n/a  already exists\n",
      "Directory  Pukul Enam News Template/t/r  Created \n",
      "Directory  Pukul Enam News Template/t/r  already exists\n",
      "Directory  Pukul Enam News Template/h/s  Created \n",
      "Directory  Pukul Enam News Template/h/s  already exists\n"
     ]
    }
   ],
   "source": [
    "import os\n",
    "from dir_names import * # Imports the list of folders from dir_names.py file\n",
    "\n",
    "\n",
    "main_dir = 'years'\t\t\t# Loading the list of sub-directories\n",
    "root_dir = 'Pukul Enam News Template'\n",
    "main_dir_names = 'months' # Name of the sub-directories\n",
    "def main():\n",
    "    # Create directory\n",
    "    for i in range(0, len(main_dir)):\n",
    "\t    for j in range(0,len(main_dir[i])):\n",
    "\t\t    dirName = str(root_dir) + '/' + str(main_dir_names[i]) +'/' + str(main_dir[i][j])\n",
    "\t\t    \n",
    "\t\t    try:\n",
    "\t\t        # Create target Directory\n",
    "\t\t        os.makedirs(dirName)\n",
    "\t\t        print(\"Directory \" , dirName ,  \" Created \") \n",
    "\t\t    except FileExistsError:\n",
    "\t\t        print(\"Directory \" , dirName ,  \" already exists\")        \n",
    "\t\t    \n",
    "\t\t    # Create target Directory if don't exist\n",
    "\t\t    if not os.path.exists(dirName):\n",
    "\t\t        os.makedirs(dirName)\n",
    "\t\t        print(\"Directory \" , dirName ,  \" Created \")\n",
    "\t\t    else:    \n",
    "\t\t        print(\"Directory \" , dirName ,  \" already exists\")\n",
    "         \n",
    "if __name__ == '__main__':\n",
    "    main()"
   ]
  },
  {
   "cell_type": "code",
   "execution_count": null,
   "metadata": {},
   "outputs": [],
   "source": []
  }
 ],
 "metadata": {
  "colab": {
   "name": "awtomesion.ipynb",
   "provenance": []
  },
  "kernelspec": {
   "display_name": "Python 3",
   "language": "python",
   "name": "python3"
  },
  "language_info": {
   "codemirror_mode": {
    "name": "ipython",
    "version": 3
   },
   "file_extension": ".py",
   "mimetype": "text/x-python",
   "name": "python",
   "nbconvert_exporter": "python",
   "pygments_lexer": "ipython3",
   "version": "3.8.5"
  }
 },
 "nbformat": 4,
 "nbformat_minor": 4
}
