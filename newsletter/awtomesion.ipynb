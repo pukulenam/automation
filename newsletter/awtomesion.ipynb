{
 "cells": [
  {
   "cell_type": "code",
   "execution_count": 19,
   "metadata": {
    "id": "7uuCruF17Bwh"
   },
   "outputs": [],
   "source": [
    "# importing datetime module for now() \n",
    "# import datetime \n",
    "# from calendar import Calendar"
   ]
  },
  {
   "cell_type": "code",
   "execution_count": 20,
   "metadata": {
    "colab": {
     "base_uri": "https://localhost:8080/"
    },
    "id": "fzf_Ira57nKv",
    "outputId": "e07f6149-05e9-43d4-e9a3-2150aa074f9c"
   },
   "outputs": [],
   "source": [
    "# obj = calendar.Calendar()\n",
    " \n",
    "# # iterating with itermonthdates\n",
    "# for day in obj.itermonthdates(2022, 1):\n",
    "#     print(day)"
   ]
  },
  {
   "cell_type": "code",
   "execution_count": null,
   "metadata": {
    "id": "HprzUzb3AVnU"
   },
   "outputs": [
    {
     "ename": "",
     "evalue": "",
     "output_type": "error",
     "traceback": [
      "\u001b[1;31mJupyter cannot be started. Error attempting to locate jupyter: Running cells with 'Python 3.8.9 64-bit' requires jupyter and notebook package.\n",
      "Run the following command to install 'jupyter and notebook' into the Python environment. \n",
      "Command: '/usr/bin/python3 -m pip install jupyter notebook -U'"
     ]
    }
   ],
   "source": [
    "template = open(\"Main Article Template.docx\",\"r\")"
   ]
  },
  {
   "cell_type": "markdown",
   "metadata": {},
   "source": [
    "Reference: https://medium.com/@pushkarkadam1994/automation-create-folder-structures-using-python-fc7b3a53b95e"
   ]
  },
  {
   "cell_type": "code",
   "execution_count": 22,
   "metadata": {},
   "outputs": [
    {
     "ename": "NameError",
     "evalue": "name 'null' is not defined",
     "output_type": "error",
     "traceback": [
      "\u001b[1;31m---------------------------------------------------------------------------\u001b[0m",
      "\u001b[1;31mNameError\u001b[0m                                 Traceback (most recent call last)",
      "\u001b[1;32m<ipython-input-22-8354b9eb9971>\u001b[0m in \u001b[0;36m<module>\u001b[1;34m\u001b[0m\n\u001b[0;32m      1\u001b[0m \u001b[1;32mimport\u001b[0m \u001b[0mos\u001b[0m\u001b[1;33m\u001b[0m\u001b[1;33m\u001b[0m\u001b[0m\n\u001b[1;32m----> 2\u001b[1;33m \u001b[1;32mfrom\u001b[0m \u001b[0mdir_names\u001b[0m \u001b[1;32mimport\u001b[0m \u001b[1;33m*\u001b[0m \u001b[1;31m# Imports the list of folders from dir_names.py file\u001b[0m\u001b[1;33m\u001b[0m\u001b[1;33m\u001b[0m\u001b[0m\n\u001b[0m\u001b[0;32m      3\u001b[0m \u001b[1;33m\u001b[0m\u001b[0m\n\u001b[0;32m      4\u001b[0m \u001b[1;33m\u001b[0m\u001b[0m\n\u001b[0;32m      5\u001b[0m \u001b[0mmain_dir\u001b[0m \u001b[1;33m=\u001b[0m \u001b[1;34m'years'\u001b[0m                      \u001b[1;31m# Loading the list of sub-directories\u001b[0m\u001b[1;33m\u001b[0m\u001b[1;33m\u001b[0m\u001b[0m\n",
      "\u001b[1;32m~\\OneDrive\\Documents\\GitHub\\automation\\newsletter\\dir_names.py\u001b[0m in \u001b[0;36m<module>\u001b[1;34m\u001b[0m\n\u001b[0;32m    154\u001b[0m   {\n\u001b[0;32m    155\u001b[0m    \u001b[1;34m\"cell_type\"\u001b[0m\u001b[1;33m:\u001b[0m \u001b[1;34m\"code\"\u001b[0m\u001b[1;33m,\u001b[0m\u001b[1;33m\u001b[0m\u001b[1;33m\u001b[0m\u001b[0m\n\u001b[1;32m--> 156\u001b[1;33m    \u001b[1;34m\"execution_count\"\u001b[0m\u001b[1;33m:\u001b[0m \u001b[0mnull\u001b[0m\u001b[1;33m,\u001b[0m\u001b[1;33m\u001b[0m\u001b[1;33m\u001b[0m\u001b[0m\n\u001b[0m\u001b[0;32m    157\u001b[0m    \u001b[1;34m\"id\"\u001b[0m\u001b[1;33m:\u001b[0m \u001b[1;34m\"3b0fb1ba-e1fa-41ad-8cf0-8660d9605156\"\u001b[0m\u001b[1;33m,\u001b[0m\u001b[1;33m\u001b[0m\u001b[1;33m\u001b[0m\u001b[0m\n\u001b[0;32m    158\u001b[0m    \u001b[1;34m\"metadata\"\u001b[0m\u001b[1;33m:\u001b[0m \u001b[1;33m{\u001b[0m\u001b[1;33m}\u001b[0m\u001b[1;33m,\u001b[0m\u001b[1;33m\u001b[0m\u001b[1;33m\u001b[0m\u001b[0m\n",
      "\u001b[1;31mNameError\u001b[0m: name 'null' is not defined"
     ]
    }
   ],
   "source": [
    "import os\n",
    "from dir_names import * # Imports the list of folders from dir_names.py file\n",
    "\n",
    "\n",
    "main_dir = 'years'\t\t\t# Loading the list of sub-directories\n",
    "root_dir = 'Pukul Enam News Template'\n",
    "main_dir_names = 'months' # Name of the sub-directories\n",
    "def main():\n",
    "    # Create directory\n",
    "    for i in range(0, len(main_dir)):\n",
    "\t    for j in range(0,len(main_dir[i])):\n",
    "\t\t    dirName = str(root_dir) + '/' + str(main_dir_names[i]) +'/' + str(main_dir[i][j])\n",
    "\t\t    \n",
    "\t\t    try:\n",
    "\t\t        # Create target Directory\n",
    "\t\t        os.makedirs(dirName)\n",
    "\t\t        print(\"Directory \" , dirName ,  \" Created \") \n",
    "\t\t    except FileExistsError:\n",
    "\t\t        print(\"Directory \" , dirName ,  \" already exists\")        \n",
    "\t\t    \n",
    "\t\t    # Create target Directory if don't exist\n",
    "\t\t    if not os.path.exists(dirName):\n",
    "\t\t        os.makedirs(dirName)\n",
    "\t\t        print(\"Directory \" , dirName ,  \" Created \")\n",
    "\t\t    else:    \n",
    "\t\t        print(\"Directory \" , dirName ,  \" already exists\")\n",
    "         \n",
    "if __name__ == '__main__':\n",
    "    main()"
   ]
  },
  {
   "cell_type": "code",
   "execution_count": null,
   "metadata": {},
   "outputs": [],
   "source": []
  }
 ],
 "metadata": {
  "colab": {
   "name": "awtomesion.ipynb",
   "provenance": []
  },
  "kernelspec": {
   "display_name": "Python 3",
   "language": "python",
   "name": "python3"
  },
  "language_info": {
   "codemirror_mode": {
    "name": "ipython",
    "version": 3
   },
   "file_extension": ".py",
   "mimetype": "text/x-python",
   "name": "python",
   "nbconvert_exporter": "python",
   "pygments_lexer": "ipython3",
   "version": "3.8.9"
  }
 },
 "nbformat": 4,
 "nbformat_minor": 4
}
